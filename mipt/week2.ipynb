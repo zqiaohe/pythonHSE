{
  "nbformat": 4,
  "nbformat_minor": 0,
  "metadata": {
    "colab": {
      "name": "Untitled8.ipynb",
      "version": "0.3.2",
      "provenance": [],
      "collapsed_sections": []
    },
    "kernelspec": {
      "name": "python2",
      "display_name": "Python 2"
    }
  },
  "cells": [
    {
      "metadata": {
        "id": "lKHL9NsG-1gx",
        "colab_type": "code",
        "colab": {}
      },
      "cell_type": "code",
      "source": [
        "import pandas as pd\n",
        "import numpy as np\n",
        "import re\n",
        "import scipy\n"
      ],
      "execution_count": 0,
      "outputs": []
    },
    {
      "metadata": {
        "id": "auzompbp_Pa-",
        "colab_type": "code",
        "colab": {
          "base_uri": "https://localhost:8080/",
          "height": 428
        },
        "outputId": "a1162c06-cb42-493a-a133-6563fe323b72"
      },
      "cell_type": "code",
      "source": [
        "file = open('sentences.txt', 'r')\n",
        "text = file.read()\n",
        "print text"
      ],
      "execution_count": 227,
      "outputs": [
        {
          "output_type": "stream",
          "text": [
            "In comparison to dogs, cats have not undergone major changes during the domestication process.\n",
            "As cat simply catenates streams of bytes, it can be also used to concatenate binary files, where it will just concatenate sequence of bytes.\n",
            "A common interactive use of cat for a single file is to output the content of a file to standard output.\n",
            "Cats can hear sounds too faint or too high in frequency for human ears, such as those made by mice and other small animals.\n",
            "In one, people deliberately tamed cats in a process of artificial selection, as they were useful predators of vermin.\n",
            "The domesticated cat and its closest wild ancestor are both diploid organisms that possess 38 chromosomes and roughly 20,000 genes.\n",
            "Domestic cats are similar in size to the other members of the genus Felis, typically weighing between 4 and 5 kg (8.8 and 11.0 lb).\n",
            "However, if the output is piped or redirected, cat is unnecessary.\n",
            "cat with one named file is safer where human error is a concern - one wrong use of the default redirection symbol \">\" instead of \"<\" (often adjacent on keyboards) may permanently delete the file you were just needing to read.\n",
            "In terms of legibility, a sequence of commands starting with cat and connected by pipes has a clear left-to-right flow of information.\n",
            "Cat command is one of the basic commands that you learned when you started in the Unix / Linux world.\n",
            "Using cat command, the lines received from stdin can be redirected to a new file using redirection symbols.\n",
            "When you type simply cat command without any arguments, it just receives the stdin content and displays it in the stdout.\n",
            "Leopard was released on October 26, 2007 as the successor of Tiger (version 10.4), and is available in two editions.\n",
            "According to Apple, Leopard contains over 300 changes and enhancements over its predecessor, Mac OS X Tiger.\n",
            "As of Mid 2010, some Apple computers have firmware factory installed which will no longer allow installation of Mac OS X Leopard.\n",
            "Since Apple moved to using Intel processors in their computers, the OSx86 community has developed and now also allows Mac OS X Tiger and later releases to be installed on non-Apple x86-based computers.\n",
            "OS X Mountain Lion was released on July 25, 2012 for purchase and download through Apple's Mac App Store, as part of a switch to releasing OS X versions online and every year.\n",
            "Apple has released a small patch for the three most recent versions of Safari running on OS X Yosemite, Mavericks, and Mountain Lion.\n",
            "The Mountain Lion release marks the second time Apple has offered an incremental upgrade, rather than releasing a new cat entirely.\n",
            "Mac OS X Mountain Lion installs in place, so you won't need to create a separate disk or run the installation off an external drive.\n",
            "The fifth major update to Mac OS X, Leopard, contains such a mountain of features - more than 300 by Apple's count.\n",
            "\n"
          ],
          "name": "stdout"
        }
      ]
    },
    {
      "metadata": {
        "id": "OzY8keVGDuv_",
        "colab_type": "code",
        "colab": {}
      },
      "cell_type": "code",
      "source": [
        "text = text.lower()\n",
        "text"
      ],
      "execution_count": 0,
      "outputs": []
    },
    {
      "metadata": {
        "id": "osZA5BANEHMV",
        "colab_type": "code",
        "colab": {
          "base_uri": "https://localhost:8080/",
          "height": 34
        },
        "outputId": "93965815-5bb5-4d6a-ff17-58f8fa9bd87f"
      },
      "cell_type": "code",
      "source": [
        "type(text)"
      ],
      "execution_count": 106,
      "outputs": [
        {
          "output_type": "execute_result",
          "data": {
            "text/plain": [
              "str"
            ]
          },
          "metadata": {
            "tags": []
          },
          "execution_count": 106
        }
      ]
    },
    {
      "metadata": {
        "id": "HqfP6bnyIDMm",
        "colab_type": "code",
        "colab": {}
      },
      "cell_type": "code",
      "source": [
        "text = text.split('\\n')"
      ],
      "execution_count": 0,
      "outputs": []
    },
    {
      "metadata": {
        "id": "evywX3X1ILh_",
        "colab_type": "code",
        "colab": {}
      },
      "cell_type": "code",
      "source": [
        "text"
      ],
      "execution_count": 0,
      "outputs": []
    },
    {
      "metadata": {
        "id": "zVNeZ3goLT2x",
        "colab_type": "code",
        "colab": {}
      },
      "cell_type": "code",
      "source": [
        "tokeniz = []\n",
        "m = []\n",
        "for line in text:\n",
        "  m = re.split('[^a-z]', line)\n",
        "  tokeniz.append(m)"
      ],
      "execution_count": 0,
      "outputs": []
    },
    {
      "metadata": {
        "id": "wCPSm9DbLpmx",
        "colab_type": "code",
        "colab": {}
      },
      "cell_type": "code",
      "source": [
        "mylist = []\n",
        "strok = []\n",
        "for line in tokeniz:\n",
        "    strok = [x for x in line if x is not '']\n",
        "    print strok\n",
        "    mylist.append(strok)"
      ],
      "execution_count": 0,
      "outputs": []
    },
    {
      "metadata": {
        "id": "s7sAlJvqOxgc",
        "colab_type": "code",
        "colab": {}
      },
      "cell_type": "code",
      "source": [
        "mylist"
      ],
      "execution_count": 0,
      "outputs": []
    },
    {
      "metadata": {
        "id": "WbG3RAohRNIH",
        "colab_type": "code",
        "colab": {}
      },
      "cell_type": "code",
      "source": [
        "catdict = {}\n",
        "i = 0\n",
        "for sent in mylist:\n",
        "  for word in sent:\n",
        "    if word not in catdict:\n",
        "      catdict[word] = i\n",
        "      i += 1"
      ],
      "execution_count": 0,
      "outputs": []
    },
    {
      "metadata": {
        "id": "YNIVf2tUXPcv",
        "colab_type": "code",
        "colab": {}
      },
      "cell_type": "code",
      "source": [
        "cdict = {v:k for k, v in catdict.items()}\n"
      ],
      "execution_count": 0,
      "outputs": []
    },
    {
      "metadata": {
        "id": "7KD9i1Y2Zpyx",
        "colab_type": "code",
        "colab": {
          "base_uri": "https://localhost:8080/",
          "height": 4335
        },
        "outputId": "8b48fd10-e59a-4c3a-9bf2-ffa9dc59583f"
      },
      "cell_type": "code",
      "source": [
        "catdict"
      ],
      "execution_count": 190,
      "outputs": [
        {
          "output_type": "execute_result",
          "data": {
            "text/plain": [
              "{'a': 33,\n",
              " 'according': 167,\n",
              " 'adjacent': 114,\n",
              " 'allow': 185,\n",
              " 'allows': 196,\n",
              " 'also': 24,\n",
              " 'an': 230,\n",
              " 'ancestor': 77,\n",
              " 'and': 58,\n",
              " 'animals': 61,\n",
              " 'any': 152,\n",
              " 'app': 208,\n",
              " 'apple': 168,\n",
              " 'are': 78,\n",
              " 'arguments': 153,\n",
              " 'artificial': 66,\n",
              " 'as': 14,\n",
              " 'available': 164,\n",
              " 'based': 200,\n",
              " 'basic': 136,\n",
              " 'be': 23,\n",
              " 'between': 95,\n",
              " 'binary': 27,\n",
              " 'both': 79,\n",
              " 'by': 56,\n",
              " 'bytes': 20,\n",
              " 'can': 22,\n",
              " 'cat': 15,\n",
              " 'catenates': 17,\n",
              " 'cats': 4,\n",
              " 'changes': 9,\n",
              " 'chromosomes': 84,\n",
              " 'clear': 130,\n",
              " 'closest': 75,\n",
              " 'command': 135,\n",
              " 'commands': 125,\n",
              " 'common': 34,\n",
              " 'community': 193,\n",
              " 'comparison': 1,\n",
              " 'computers': 178,\n",
              " 'concatenate': 26,\n",
              " 'concern': 107,\n",
              " 'connected': 127,\n",
              " 'contains': 169,\n",
              " 'content': 42,\n",
              " 'count': 253,\n",
              " 'create': 242,\n",
              " 'default': 109,\n",
              " 'delete': 119,\n",
              " 'deliberately': 64,\n",
              " 'developed': 194,\n",
              " 'diploid': 80,\n",
              " 'disk': 244,\n",
              " 'displays': 155,\n",
              " 'dogs': 3,\n",
              " 'domestic': 87,\n",
              " 'domesticated': 73,\n",
              " 'domestication': 12,\n",
              " 'download': 205,\n",
              " 'drive': 248,\n",
              " 'during': 10,\n",
              " 'ears': 52,\n",
              " 'editions': 166,\n",
              " 'enhancements': 171,\n",
              " 'entirely': 235,\n",
              " 'error': 106,\n",
              " 'every': 215,\n",
              " 'external': 247,\n",
              " 'factory': 180,\n",
              " 'faint': 47,\n",
              " 'features': 251,\n",
              " 'felis': 92,\n",
              " 'fifth': 249,\n",
              " 'file': 39,\n",
              " 'files': 28,\n",
              " 'firmware': 179,\n",
              " 'flow': 133,\n",
              " 'for': 37,\n",
              " 'frequency': 50,\n",
              " 'from': 146,\n",
              " 'genes': 86,\n",
              " 'genus': 91,\n",
              " 'has': 129,\n",
              " 'have': 5,\n",
              " 'hear': 44,\n",
              " 'high': 49,\n",
              " 'however': 98,\n",
              " 'human': 51,\n",
              " 'if': 99,\n",
              " 'in': 0,\n",
              " 'incremental': 231,\n",
              " 'information': 134,\n",
              " 'installation': 186,\n",
              " 'installed': 181,\n",
              " 'installs': 236,\n",
              " 'instead': 112,\n",
              " 'intel': 189,\n",
              " 'interactive': 35,\n",
              " 'is': 40,\n",
              " 'it': 21,\n",
              " 'its': 74,\n",
              " 'july': 203,\n",
              " 'just': 31,\n",
              " 'keyboards': 116,\n",
              " 'kg': 96,\n",
              " 'later': 197,\n",
              " 'lb': 97,\n",
              " 'learned': 137,\n",
              " 'left': 131,\n",
              " 'legibility': 124,\n",
              " 'leopard': 157,\n",
              " 'lines': 144,\n",
              " 'linux': 141,\n",
              " 'lion': 202,\n",
              " 'longer': 184,\n",
              " 'mac': 173,\n",
              " 'made': 55,\n",
              " 'major': 8,\n",
              " 'marks': 226,\n",
              " 'mavericks': 224,\n",
              " 'may': 117,\n",
              " 'members': 90,\n",
              " 'mice': 57,\n",
              " 'mid': 176,\n",
              " 'more': 252,\n",
              " 'most': 219,\n",
              " 'mountain': 201,\n",
              " 'moved': 188,\n",
              " 'named': 104,\n",
              " 'need': 241,\n",
              " 'needing': 121,\n",
              " 'new': 148,\n",
              " 'no': 183,\n",
              " 'non': 199,\n",
              " 'not': 6,\n",
              " 'now': 195,\n",
              " 'october': 160,\n",
              " 'of': 19,\n",
              " 'off': 246,\n",
              " 'offered': 229,\n",
              " 'often': 113,\n",
              " 'on': 115,\n",
              " 'one': 62,\n",
              " 'online': 214,\n",
              " 'or': 48,\n",
              " 'organisms': 81,\n",
              " 'os': 174,\n",
              " 'osx': 192,\n",
              " 'other': 59,\n",
              " 'output': 41,\n",
              " 'over': 170,\n",
              " 'part': 210,\n",
              " 'patch': 217,\n",
              " 'people': 63,\n",
              " 'permanently': 118,\n",
              " 'piped': 100,\n",
              " 'pipes': 128,\n",
              " 'place': 237,\n",
              " 'possess': 83,\n",
              " 'predators': 71,\n",
              " 'predecessor': 172,\n",
              " 'process': 13,\n",
              " 'processors': 190,\n",
              " 'purchase': 204,\n",
              " 'rather': 233,\n",
              " 'read': 122,\n",
              " 'received': 145,\n",
              " 'receives': 154,\n",
              " 'recent': 220,\n",
              " 'redirected': 101,\n",
              " 'redirection': 110,\n",
              " 'release': 225,\n",
              " 'released': 159,\n",
              " 'releases': 198,\n",
              " 'releasing': 212,\n",
              " 'right': 132,\n",
              " 'roughly': 85,\n",
              " 'run': 245,\n",
              " 'running': 222,\n",
              " 's': 207,\n",
              " 'safari': 221,\n",
              " 'safer': 105,\n",
              " 'second': 227,\n",
              " 'selection': 67,\n",
              " 'separate': 243,\n",
              " 'sequence': 32,\n",
              " 'similar': 88,\n",
              " 'simply': 16,\n",
              " 'since': 187,\n",
              " 'single': 38,\n",
              " 'size': 89,\n",
              " 'small': 60,\n",
              " 'so': 238,\n",
              " 'some': 177,\n",
              " 'sounds': 45,\n",
              " 'standard': 43,\n",
              " 'started': 139,\n",
              " 'starting': 126,\n",
              " 'stdin': 147,\n",
              " 'stdout': 156,\n",
              " 'store': 209,\n",
              " 'streams': 18,\n",
              " 'successor': 161,\n",
              " 'such': 53,\n",
              " 'switch': 211,\n",
              " 'symbol': 111,\n",
              " 'symbols': 149,\n",
              " 't': 240,\n",
              " 'tamed': 65,\n",
              " 'terms': 123,\n",
              " 'than': 234,\n",
              " 'that': 82,\n",
              " 'the': 11,\n",
              " 'their': 191,\n",
              " 'they': 68,\n",
              " 'those': 54,\n",
              " 'three': 218,\n",
              " 'through': 206,\n",
              " 'tiger': 162,\n",
              " 'time': 228,\n",
              " 'to': 2,\n",
              " 'too': 46,\n",
              " 'two': 165,\n",
              " 'type': 150,\n",
              " 'typically': 93,\n",
              " 'undergone': 7,\n",
              " 'unix': 140,\n",
              " 'unnecessary': 102,\n",
              " 'update': 250,\n",
              " 'upgrade': 232,\n",
              " 'use': 36,\n",
              " 'used': 25,\n",
              " 'useful': 70,\n",
              " 'using': 143,\n",
              " 'vermin': 72,\n",
              " 'version': 163,\n",
              " 'versions': 213,\n",
              " 'was': 158,\n",
              " 'weighing': 94,\n",
              " 'were': 69,\n",
              " 'when': 138,\n",
              " 'where': 29,\n",
              " 'which': 182,\n",
              " 'wild': 76,\n",
              " 'will': 30,\n",
              " 'with': 103,\n",
              " 'without': 151,\n",
              " 'won': 239,\n",
              " 'world': 142,\n",
              " 'wrong': 108,\n",
              " 'x': 175,\n",
              " 'year': 216,\n",
              " 'yosemite': 223,\n",
              " 'you': 120}"
            ]
          },
          "metadata": {
            "tags": []
          },
          "execution_count": 190
        }
      ]
    },
    {
      "metadata": {
        "id": "tK6XUn3JZ1jJ",
        "colab_type": "code",
        "colab": {
          "base_uri": "https://localhost:8080/",
          "height": 4335
        },
        "outputId": "ccde5af8-46cf-432c-c3da-b7a69ca8e5f6"
      },
      "cell_type": "code",
      "source": [
        "cdict"
      ],
      "execution_count": 202,
      "outputs": [
        {
          "output_type": "execute_result",
          "data": {
            "text/plain": [
              "{0: 'in',\n",
              " 1: 'comparison',\n",
              " 2: 'to',\n",
              " 3: 'dogs',\n",
              " 4: 'cats',\n",
              " 5: 'have',\n",
              " 6: 'not',\n",
              " 7: 'undergone',\n",
              " 8: 'major',\n",
              " 9: 'changes',\n",
              " 10: 'during',\n",
              " 11: 'the',\n",
              " 12: 'domestication',\n",
              " 13: 'process',\n",
              " 14: 'as',\n",
              " 15: 'cat',\n",
              " 16: 'simply',\n",
              " 17: 'catenates',\n",
              " 18: 'streams',\n",
              " 19: 'of',\n",
              " 20: 'bytes',\n",
              " 21: 'it',\n",
              " 22: 'can',\n",
              " 23: 'be',\n",
              " 24: 'also',\n",
              " 25: 'used',\n",
              " 26: 'concatenate',\n",
              " 27: 'binary',\n",
              " 28: 'files',\n",
              " 29: 'where',\n",
              " 30: 'will',\n",
              " 31: 'just',\n",
              " 32: 'sequence',\n",
              " 33: 'a',\n",
              " 34: 'common',\n",
              " 35: 'interactive',\n",
              " 36: 'use',\n",
              " 37: 'for',\n",
              " 38: 'single',\n",
              " 39: 'file',\n",
              " 40: 'is',\n",
              " 41: 'output',\n",
              " 42: 'content',\n",
              " 43: 'standard',\n",
              " 44: 'hear',\n",
              " 45: 'sounds',\n",
              " 46: 'too',\n",
              " 47: 'faint',\n",
              " 48: 'or',\n",
              " 49: 'high',\n",
              " 50: 'frequency',\n",
              " 51: 'human',\n",
              " 52: 'ears',\n",
              " 53: 'such',\n",
              " 54: 'those',\n",
              " 55: 'made',\n",
              " 56: 'by',\n",
              " 57: 'mice',\n",
              " 58: 'and',\n",
              " 59: 'other',\n",
              " 60: 'small',\n",
              " 61: 'animals',\n",
              " 62: 'one',\n",
              " 63: 'people',\n",
              " 64: 'deliberately',\n",
              " 65: 'tamed',\n",
              " 66: 'artificial',\n",
              " 67: 'selection',\n",
              " 68: 'they',\n",
              " 69: 'were',\n",
              " 70: 'useful',\n",
              " 71: 'predators',\n",
              " 72: 'vermin',\n",
              " 73: 'domesticated',\n",
              " 74: 'its',\n",
              " 75: 'closest',\n",
              " 76: 'wild',\n",
              " 77: 'ancestor',\n",
              " 78: 'are',\n",
              " 79: 'both',\n",
              " 80: 'diploid',\n",
              " 81: 'organisms',\n",
              " 82: 'that',\n",
              " 83: 'possess',\n",
              " 84: 'chromosomes',\n",
              " 85: 'roughly',\n",
              " 86: 'genes',\n",
              " 87: 'domestic',\n",
              " 88: 'similar',\n",
              " 89: 'size',\n",
              " 90: 'members',\n",
              " 91: 'genus',\n",
              " 92: 'felis',\n",
              " 93: 'typically',\n",
              " 94: 'weighing',\n",
              " 95: 'between',\n",
              " 96: 'kg',\n",
              " 97: 'lb',\n",
              " 98: 'however',\n",
              " 99: 'if',\n",
              " 100: 'piped',\n",
              " 101: 'redirected',\n",
              " 102: 'unnecessary',\n",
              " 103: 'with',\n",
              " 104: 'named',\n",
              " 105: 'safer',\n",
              " 106: 'error',\n",
              " 107: 'concern',\n",
              " 108: 'wrong',\n",
              " 109: 'default',\n",
              " 110: 'redirection',\n",
              " 111: 'symbol',\n",
              " 112: 'instead',\n",
              " 113: 'often',\n",
              " 114: 'adjacent',\n",
              " 115: 'on',\n",
              " 116: 'keyboards',\n",
              " 117: 'may',\n",
              " 118: 'permanently',\n",
              " 119: 'delete',\n",
              " 120: 'you',\n",
              " 121: 'needing',\n",
              " 122: 'read',\n",
              " 123: 'terms',\n",
              " 124: 'legibility',\n",
              " 125: 'commands',\n",
              " 126: 'starting',\n",
              " 127: 'connected',\n",
              " 128: 'pipes',\n",
              " 129: 'has',\n",
              " 130: 'clear',\n",
              " 131: 'left',\n",
              " 132: 'right',\n",
              " 133: 'flow',\n",
              " 134: 'information',\n",
              " 135: 'command',\n",
              " 136: 'basic',\n",
              " 137: 'learned',\n",
              " 138: 'when',\n",
              " 139: 'started',\n",
              " 140: 'unix',\n",
              " 141: 'linux',\n",
              " 142: 'world',\n",
              " 143: 'using',\n",
              " 144: 'lines',\n",
              " 145: 'received',\n",
              " 146: 'from',\n",
              " 147: 'stdin',\n",
              " 148: 'new',\n",
              " 149: 'symbols',\n",
              " 150: 'type',\n",
              " 151: 'without',\n",
              " 152: 'any',\n",
              " 153: 'arguments',\n",
              " 154: 'receives',\n",
              " 155: 'displays',\n",
              " 156: 'stdout',\n",
              " 157: 'leopard',\n",
              " 158: 'was',\n",
              " 159: 'released',\n",
              " 160: 'october',\n",
              " 161: 'successor',\n",
              " 162: 'tiger',\n",
              " 163: 'version',\n",
              " 164: 'available',\n",
              " 165: 'two',\n",
              " 166: 'editions',\n",
              " 167: 'according',\n",
              " 168: 'apple',\n",
              " 169: 'contains',\n",
              " 170: 'over',\n",
              " 171: 'enhancements',\n",
              " 172: 'predecessor',\n",
              " 173: 'mac',\n",
              " 174: 'os',\n",
              " 175: 'x',\n",
              " 176: 'mid',\n",
              " 177: 'some',\n",
              " 178: 'computers',\n",
              " 179: 'firmware',\n",
              " 180: 'factory',\n",
              " 181: 'installed',\n",
              " 182: 'which',\n",
              " 183: 'no',\n",
              " 184: 'longer',\n",
              " 185: 'allow',\n",
              " 186: 'installation',\n",
              " 187: 'since',\n",
              " 188: 'moved',\n",
              " 189: 'intel',\n",
              " 190: 'processors',\n",
              " 191: 'their',\n",
              " 192: 'osx',\n",
              " 193: 'community',\n",
              " 194: 'developed',\n",
              " 195: 'now',\n",
              " 196: 'allows',\n",
              " 197: 'later',\n",
              " 198: 'releases',\n",
              " 199: 'non',\n",
              " 200: 'based',\n",
              " 201: 'mountain',\n",
              " 202: 'lion',\n",
              " 203: 'july',\n",
              " 204: 'purchase',\n",
              " 205: 'download',\n",
              " 206: 'through',\n",
              " 207: 's',\n",
              " 208: 'app',\n",
              " 209: 'store',\n",
              " 210: 'part',\n",
              " 211: 'switch',\n",
              " 212: 'releasing',\n",
              " 213: 'versions',\n",
              " 214: 'online',\n",
              " 215: 'every',\n",
              " 216: 'year',\n",
              " 217: 'patch',\n",
              " 218: 'three',\n",
              " 219: 'most',\n",
              " 220: 'recent',\n",
              " 221: 'safari',\n",
              " 222: 'running',\n",
              " 223: 'yosemite',\n",
              " 224: 'mavericks',\n",
              " 225: 'release',\n",
              " 226: 'marks',\n",
              " 227: 'second',\n",
              " 228: 'time',\n",
              " 229: 'offered',\n",
              " 230: 'an',\n",
              " 231: 'incremental',\n",
              " 232: 'upgrade',\n",
              " 233: 'rather',\n",
              " 234: 'than',\n",
              " 235: 'entirely',\n",
              " 236: 'installs',\n",
              " 237: 'place',\n",
              " 238: 'so',\n",
              " 239: 'won',\n",
              " 240: 't',\n",
              " 241: 'need',\n",
              " 242: 'create',\n",
              " 243: 'separate',\n",
              " 244: 'disk',\n",
              " 245: 'run',\n",
              " 246: 'off',\n",
              " 247: 'external',\n",
              " 248: 'drive',\n",
              " 249: 'fifth',\n",
              " 250: 'update',\n",
              " 251: 'features',\n",
              " 252: 'more',\n",
              " 253: 'count'}"
            ]
          },
          "metadata": {
            "tags": []
          },
          "execution_count": 202
        }
      ]
    },
    {
      "metadata": {
        "id": "HppX5BLVaOkQ",
        "colab_type": "code",
        "colab": {}
      },
      "cell_type": "code",
      "source": [
        "mylist.pop()"
      ],
      "execution_count": 0,
      "outputs": []
    },
    {
      "metadata": {
        "id": "cjqmVE_7aSkx",
        "colab_type": "code",
        "colab": {}
      },
      "cell_type": "code",
      "source": [
        "mylist"
      ],
      "execution_count": 0,
      "outputs": []
    },
    {
      "metadata": {
        "id": "N5KzT-eQaWUY",
        "colab_type": "code",
        "colab": {
          "base_uri": "https://localhost:8080/",
          "height": 34
        },
        "outputId": "6cf4973c-240e-4dda-bc42-326bb6301559"
      },
      "cell_type": "code",
      "source": [
        "len(mylist)"
      ],
      "execution_count": 203,
      "outputs": [
        {
          "output_type": "execute_result",
          "data": {
            "text/plain": [
              "22"
            ]
          },
          "metadata": {
            "tags": []
          },
          "execution_count": 203
        }
      ]
    },
    {
      "metadata": {
        "id": "93AAVRalbKiv",
        "colab_type": "code",
        "colab": {
          "base_uri": "https://localhost:8080/",
          "height": 34
        },
        "outputId": "0121d58e-9b11-42cf-bc41-a16ba84ca9f7"
      },
      "cell_type": "code",
      "source": [
        "matrix = np.zeros((22,254))\n",
        "matrix[0][0]"
      ],
      "execution_count": 206,
      "outputs": [
        {
          "output_type": "execute_result",
          "data": {
            "text/plain": [
              "0.0"
            ]
          },
          "metadata": {
            "tags": []
          },
          "execution_count": 206
        }
      ]
    },
    {
      "metadata": {
        "id": "OTuA0448ee7h",
        "colab_type": "code",
        "colab": {}
      },
      "cell_type": "code",
      "source": [
        " from collections import Counter\n",
        "    "
      ],
      "execution_count": 0,
      "outputs": []
    },
    {
      "metadata": {
        "id": "Bcabc1lxgcyP",
        "colab_type": "code",
        "colab": {}
      },
      "cell_type": "code",
      "source": [
        "i = 0\n",
        "for line in mylist:\n",
        "  c = Counter(line)\n",
        "  for elem in c:\n",
        "    matrix [i][catdict[elem]] = c[elem]\n",
        "  i = i + 1\n",
        "    "
      ],
      "execution_count": 0,
      "outputs": []
    },
    {
      "metadata": {
        "id": "q6AHzxFGGh5C",
        "colab_type": "code",
        "colab": {}
      },
      "cell_type": "code",
      "source": [
        " from scipy.spatial import distance"
      ],
      "execution_count": 0,
      "outputs": []
    },
    {
      "metadata": {
        "id": "WEC9XSdLEkIN",
        "colab_type": "code",
        "colab": {
          "base_uri": "https://localhost:8080/",
          "height": 391
        },
        "outputId": "9f67e2b4-85cd-44c0-c621-a89e6c830959"
      },
      "cell_type": "code",
      "source": [
        "k = matrix[0]\n",
        "for line in matrix:\n",
        "  m = distance.cosine(k, line)\n",
        "  print (m)"
      ],
      "execution_count": 226,
      "outputs": [
        {
          "output_type": "stream",
          "text": [
            "0.0\n",
            "0.9527544408738466\n",
            "0.8644738145642124\n",
            "0.8951715163278082\n",
            "0.7770887149698589\n",
            "0.9402385695332803\n",
            "0.7327387580875756\n",
            "0.9258750683338899\n",
            "0.8842724875284311\n",
            "0.9055088817476932\n",
            "0.8328165362273942\n",
            "0.8804771390665607\n",
            "0.8396432548525454\n",
            "0.8703592552895671\n",
            "0.8740118423302576\n",
            "0.9442721787424647\n",
            "0.8406361854220809\n",
            "0.956644501523794\n",
            "0.9442721787424647\n",
            "0.8885443574849294\n",
            "0.8427572744917122\n",
            "0.8250364469440588\n"
          ],
          "name": "stdout"
        }
      ]
    }
  ]
}